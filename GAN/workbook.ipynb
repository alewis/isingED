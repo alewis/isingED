{
 "cells": [
  {
   "cell_type": "code",
   "execution_count": 1,
   "metadata": {},
   "outputs": [
    {
     "name": "stderr",
     "output_type": "stream",
     "text": [
      "/home/kmills/anaconda2/lib/python2.7/site-packages/h5py/__init__.py:36: FutureWarning: Conversion of the second argument of issubdtype from `float` to `np.floating` is deprecated. In future, it will be treated as `np.float64 == np.dtype(float).type`.\n",
      "  from ._conv import register_converters as _register_converters\n"
     ]
    }
   ],
   "source": [
    "#Simple GAN implementation\n",
    "import tensorflow as tf\n",
    "import numpy as np\n",
    "import matplotlib.pyplot as plt\n",
    "import matplotlib.animation\n",
    "from IPython.display import clear_output\n",
    "import logging\n",
    "from ipywidgets.widgets.interaction import show_inline_matplotlib_plots\n",
    "%matplotlib inline\n",
    "\n",
    "BATCH_SIZE = 256"
   ]
  },
  {
   "cell_type": "code",
   "execution_count": 2,
   "metadata": {},
   "outputs": [],
   "source": [
    "class DataStreamer(object):\n",
    "    \"\"\"\n",
    "    Class for reading csv data from the output file of generateconfigs.jl,\n",
    "    and providing shuffled batching.   \n",
    "    \"\"\"\n",
    "    def __init__(self, csvfile, fake=False):\n",
    "        with open(csvfile, 'rb') as F:\n",
    "            cleaned_lines = (line.replace(b';',b',') for line in F)\n",
    "            data  = np.genfromtxt(cleaned_lines, dtype=int, delimiter=',')\n",
    "            N = int(((data.shape[1] - 1) / 2))\n",
    "            configs = data[:,-(N+1):-1].reshape((-1,N))\n",
    "    \n",
    "        self.data = configs\n",
    "        self.data[self.data==0]=-1\n",
    "        self.example_shape = self.data.shape[1:]\n",
    "        self.epoch = -1\n",
    "        self.__new_epoch()\n",
    "        logging.info(\"Data shape: \" + str(self.data.shape))\n",
    "\n",
    "        \"\"\"Here I (conditionally) override the csv data with some 'easy'\n",
    "           data to test the GAN implementation\"\"\"\n",
    "        if False:\n",
    "            #Single pixel, always in the same place:  SUCCESS\n",
    "            self.data = np.zeros_like(self.data) - 1\n",
    "            self.data[:,1] = 1\n",
    "\n",
    "            #Vertical lines\n",
    "            self.data = np.zeros_like(self.data) - 1\n",
    "            for i in range(self.data.shape[0]):\n",
    "                d = self.data[i, :].reshape((4,4))\n",
    "                d[:,np.random.randint(0,4)] = 1\n",
    "                self.data[i,] = d.flatten()\n",
    "        \n",
    "        \n",
    "    def __new_epoch(self):\n",
    "        \"\"\"\n",
    "        Reset the queue of shuffled indices that will be removed as we\n",
    "        return examples.  Increment the epoch counter.\n",
    "        \"\"\"\n",
    "        self.epoch += 1\n",
    "        indices = np.arange(self.data.shape[0])\n",
    "        np.random.shuffle(indices)\n",
    "        self.q = list(indices)\n",
    "    \n",
    "    def next_batch(self, batch_size):\n",
    "        \"\"\"Return batch_size examples in an array.\"\"\"\n",
    "        batch_data = np.zeros([batch_size,] + list(self.example_shape))\n",
    "        for i in range(batch_size):\n",
    "            index = self.q.pop()\n",
    "            batch_data[i,...] = self.data[index]\n",
    "            if len(self.q)==0:\n",
    "                self.__new_epoch()\n",
    "               \n",
    "        return batch_data\n"
   ]
  },
  {
   "cell_type": "code",
   "execution_count": 3,
   "metadata": {},
   "outputs": [],
   "source": [
    "class Generator(object):\n",
    "    \"\"\"\n",
    "       Construct the generator, taking a batch of random noise vectors and returning\n",
    "       a tensor representing a batch of generated examples.  Arbitrary tensorflow neural\n",
    "       network ops can be inserted here.\n",
    "    \"\"\"\n",
    "    def __init__(self, z, output_shape, scope='G'):\n",
    "        with tf.variable_scope(scope) as scope:\n",
    "            output = z\n",
    "            output = tf.layers.dense(output, 256, activation=tf.nn.leaky_relu)\n",
    "            output = tf.layers.dense(output, 512, activation=tf.nn.leaky_relu)\n",
    "            output = tf.layers.dense(output, 1024, activation=tf.nn.leaky_relu)\n",
    "            output = tf.layers.dense(output, 512, activation=tf.nn.leaky_relu)\n",
    "            output = tf.layers.dense(output, 256, activation=tf.nn.leaky_relu)\n",
    "            output = tf.layers.dense(output, 128, activation=tf.nn.leaky_relu)\n",
    "            output = tf.layers.dense(output, np.prod(output_shape), activation=tf.nn.tanh)            \n",
    "            self.output = tf.reshape(output, (-1,) + output_shape)"
   ]
  },
  {
   "cell_type": "code",
   "execution_count": 4,
   "metadata": {},
   "outputs": [],
   "source": [
    "class Discriminator(object):\n",
    "    \"\"\"\n",
    "       Construct the Discriminator, taking a batch of \"examples\" (either real or generated) \n",
    "       and returning an unactivated output indicating how \"real\" the example is considered.\n",
    "       Since this is unactivated, some refer to this as a \"Critic\" instead of \"Discriminator\".\n",
    "    \"\"\"\n",
    "    def __init__(self, x_in, scope='D'):\n",
    "        with tf.variable_scope(scope, reuse=tf.AUTO_REUSE) as scope:\n",
    "            output = x_in\n",
    "            output = tf.layers.dense(output, 128, activation=tf.nn.leaky_relu)\n",
    "            output = tf.layers.dense(output, 256, activation=tf.nn.leaky_relu)\n",
    "            output = tf.layers.dense(output, 512, activation=tf.nn.leaky_relu)\n",
    "            output = tf.layers.dense(output, 1024, activation=tf.nn.leaky_relu)\n",
    "            output = tf.layers.dense(output, 1, activation=None)\n",
    "            self.output = output\n",
    "            "
   ]
  },
  {
   "cell_type": "code",
   "execution_count": 5,
   "metadata": {},
   "outputs": [],
   "source": [
    "class Random(object):\n",
    "    \"\"\"\n",
    "    Simple class for generating random latent noise.\n",
    "    \"\"\"\n",
    "    def __init__(self):\n",
    "        pass\n",
    "    def sample(self, shape):\n",
    "        return np.random.normal(loc=0.0, scale=0.1, size=shape)"
   ]
  },
  {
   "cell_type": "code",
   "execution_count": 6,
   "metadata": {},
   "outputs": [],
   "source": [
    "class Visualiser(object):\n",
    "    \"\"\"\n",
    "    Simple plotting helper to plot some ground truth training examples beside the generator\n",
    "    output.  Use threshold=True to 'snap' the plot to -1 and 1.\n",
    "    \"\"\"\n",
    "    \n",
    "    def __init__(self, batch_size):\n",
    "        self.batch_size = batch_size\n",
    "        pass\n",
    "    def update(self, G_out, truth, threshold=False):\n",
    "        assert sample.shape[0]==self.batch_size,\"first dimension of sample must be equal to batch_size\"\n",
    "        N = int(np.sqrt(self.batch_size))\n",
    "        if threshold:\n",
    "            G_out[G_out < 0] = -1\n",
    "            G_out[G_out >= 0] = 1\n",
    "        N = min(N, 5)\n",
    "        fig, ax = plt.subplots(N,2*N,figsize=(20,10))\n",
    "        for k, d in enumerate([sample, ground_truth]):\n",
    "            counter = 0\n",
    "            for i in range(N):\n",
    "                for j in range(k*N,(k+1)*N):\n",
    "                    ax[i,j].pcolormesh(d[counter].reshape(4,4), cmap='gray', vmin=-1, vmax=1)\n",
    "                    ax[i,j].set_xticks([])\n",
    "                    ax[i,j].set_yticks([])\n",
    "                    counter += 1\n",
    "        fig.show()\n",
    "        show_inline_matplotlib_plots()\n",
    "                    "
   ]
  },
  {
   "cell_type": "code",
   "execution_count": 7,
   "metadata": {
    "scrolled": false
   },
   "outputs": [],
   "source": [
    "\"\"\"\n",
    "Here we instantiate and connect the pieces, define the loss functions, \n",
    "perform the weight clipping (for WGAN) on the discriminator, and set up the optimizer.\n",
    "\"\"\"\n",
    "\n",
    "tf.reset_default_graph()\n",
    "\n",
    "S = DataStreamer(\"../ising.csv\")\n",
    "\n",
    "z_ph = tf.placeholder(tf.float32, shape=(BATCH_SIZE, 128), name=\"input_noise\")\n",
    "x_ph = tf.placeholder(tf.float32, shape=tuple([BATCH_SIZE,] + list(S.example_shape)), name=\"true_sample\")\n",
    "lr = tf.placeholder(tf.float32, shape=(), name='learning_rate')\n",
    "\n",
    "R = Random()\n",
    "G = Generator(z_ph, output_shape=S.example_shape)\n",
    "DR = Discriminator(x_ph)\n",
    "DG = Discriminator(G.output)\n",
    "V = Visualiser(BATCH_SIZE)\n",
    "\n",
    "D_loss = tf.reduce_mean(DR.output) - tf.reduce_mean(DG.output)\n",
    "G_loss = -tf.reduce_mean(DG.output)\n",
    "\n",
    "D_vars = tf.get_collection(tf.GraphKeys.GLOBAL_VARIABLES, scope='D')\n",
    "G_vars = tf.get_collection(tf.GraphKeys.GLOBAL_VARIABLES, scope='G')\n",
    "\n",
    "D_clip = [p.assign(tf.clip_by_value(p, -0.01, 0.01)) for p in D_vars]\n",
    "\n",
    "D_optimizer = tf.train.RMSPropOptimizer(lr)\n",
    "G_optimizer = tf.train.RMSPropOptimizer(lr)\n",
    "\n",
    "D_step = D_optimizer.minimize(-D_loss, var_list=D_vars)\n",
    "G_step = G_optimizer.minimize(G_loss, var_list=G_vars)\n",
    "\n",
    "init = tf.global_variables_initializer()"
   ]
  },
  {
   "cell_type": "code",
   "execution_count": 8,
   "metadata": {},
   "outputs": [],
   "source": [
    "sess = tf.Session()\n",
    "sess.run(init)"
   ]
  },
  {
   "cell_type": "code",
   "execution_count": 9,
   "metadata": {
    "scrolled": false
   },
   "outputs": [
    {
     "data": {
      "image/png": "[encoded data removed]",
      "text/plain": [
       "<Figure size 1440x720 with 50 Axes>"
      ]
     },
     "metadata": {},
     "output_type": "display_data"
    },
    {
     "name": "stdout",
     "output_type": "stream",
     "text": [
      "Epoch   858\tGl: 1.020e-01\tDl: 2.332e-01\n"
     ]
    },
    {
     "ename": "KeyboardInterrupt",
     "evalue": "",
     "output_type": "error",
     "traceback": [
      "\u001b[0;31m---------------------------------------------------------------------------\u001b[0m",
      "\u001b[0;31mKeyboardInterrupt\u001b[0m                         Traceback (most recent call last)",
      "\u001b[0;32m<ipython-input-9-52e093995dda>\u001b[0m in \u001b[0;36m<module>\u001b[0;34m()\u001b[0m\n\u001b[1;32m     21\u001b[0m         _, D_loss_val, _ = sess.run([D_step, D_loss, D_clip], \n\u001b[1;32m     22\u001b[0m                                 feed_dict = {x_ph: x_in,\n\u001b[0;32m---> 23\u001b[0;31m                                              \u001b[0mz_ph\u001b[0m\u001b[0;34m:\u001b[0m \u001b[0mR\u001b[0m\u001b[0;34m.\u001b[0m\u001b[0msample\u001b[0m\u001b[0;34m(\u001b[0m\u001b[0mz_ph\u001b[0m\u001b[0;34m.\u001b[0m\u001b[0mshape\u001b[0m\u001b[0;34m)\u001b[0m\u001b[0;34m,\u001b[0m\u001b[0;34m\u001b[0m\u001b[0m\n\u001b[0m\u001b[1;32m     24\u001b[0m                                              \u001b[0mlr\u001b[0m\u001b[0;34m:\u001b[0m \u001b[0;36m0.0001\u001b[0m\u001b[0;34m\u001b[0m\u001b[0m\n\u001b[1;32m     25\u001b[0m                                             })\n",
      "\u001b[0;32m<ipython-input-5-349f7671e2da>\u001b[0m in \u001b[0;36msample\u001b[0;34m(self, shape)\u001b[0m\n\u001b[1;32m      6\u001b[0m         \u001b[0;32mpass\u001b[0m\u001b[0;34m\u001b[0m\u001b[0m\n\u001b[1;32m      7\u001b[0m     \u001b[0;32mdef\u001b[0m \u001b[0msample\u001b[0m\u001b[0;34m(\u001b[0m\u001b[0mself\u001b[0m\u001b[0;34m,\u001b[0m \u001b[0mshape\u001b[0m\u001b[0;34m)\u001b[0m\u001b[0;34m:\u001b[0m\u001b[0;34m\u001b[0m\u001b[0m\n\u001b[0;32m----> 8\u001b[0;31m         \u001b[0;32mreturn\u001b[0m \u001b[0mnp\u001b[0m\u001b[0;34m.\u001b[0m\u001b[0mrandom\u001b[0m\u001b[0;34m.\u001b[0m\u001b[0mnormal\u001b[0m\u001b[0;34m(\u001b[0m\u001b[0mloc\u001b[0m\u001b[0;34m=\u001b[0m\u001b[0;36m0.0\u001b[0m\u001b[0;34m,\u001b[0m \u001b[0mscale\u001b[0m\u001b[0;34m=\u001b[0m\u001b[0;36m0.1\u001b[0m\u001b[0;34m,\u001b[0m \u001b[0msize\u001b[0m\u001b[0;34m=\u001b[0m\u001b[0mshape\u001b[0m\u001b[0;34m)\u001b[0m\u001b[0;34m\u001b[0m\u001b[0m\n\u001b[0m",
      "\u001b[0;31mKeyboardInterrupt\u001b[0m: "
     ]
    }
   ],
   "source": [
    "\"\"\"\n",
    "Now the actual training.\n",
    "\"\"\"\n",
    "\n",
    "\"\"\"\n",
    "Generate a random vector that will be used for plotting (so we can see the evolution\n",
    "of the generator on the same latent input.  Additionally we want the ground truth data\n",
    "to be the same in every frame.\n",
    "\"\"\"\n",
    "static_random = R.sample(z_ph.shape)\n",
    "ground_truth = S.next_batch(BATCH_SIZE)\n",
    "\n",
    "N = int(np.sqrt(BATCH_SIZE))\n",
    "\n",
    "\n",
    "for iteration in range(10000000):\n",
    "\n",
    "    for _ in range(5):\n",
    "        #train the Discriminator for five steps\n",
    "        x_in = S.next_batch(BATCH_SIZE)\n",
    "        _, D_loss_val, _ = sess.run([D_step, D_loss, D_clip], \n",
    "                                feed_dict = {x_ph: x_in,\n",
    "                                             z_ph: R.sample(z_ph.shape),\n",
    "                                             lr: 0.0001\n",
    "                                            })\n",
    "        \n",
    "    _, G_loss_val = sess.run([G_step, G_loss], feed_dict={z_ph:R.sample(z_ph.shape),\n",
    "                                                          lr: 0.0001})\n",
    "    if iteration % 10 == 0:\n",
    "        sample = sess.run(G.output, feed_dict={z_ph: static_random})\n",
    "        \n",
    "        clear_output(wait=True)\n",
    "        \n",
    "        V.update(sample, ground_truth, threshold=False)\n",
    "        print(\"Epoch {:5d}\\tGl: {:5.3e}\\tDl: {:5.3e}\".format(S.epoch, G_loss_val, D_loss_val))\n",
    "\n"
   ]
  },
  {
   "cell_type": "markdown",
   "metadata": {},
   "source": [
    "## Results:\n",
    "\n",
    "After 10-ish minutes of training (~850 epochs), it arrives at something that doesn't look\n",
    "_completely_ wrong at first glance.  More work to be done though."
   ]
  },
  {
   "cell_type": "code",
   "execution_count": 11,
   "metadata": {},
   "outputs": [],
   "source": []
  },
  {
   "cell_type": "code",
   "execution_count": null,
   "metadata": {},
   "outputs": [],
   "source": []
  },
  {
   "cell_type": "code",
   "execution_count": null,
   "metadata": {},
   "outputs": [],
   "source": []
  }
 ],
 "metadata": {
  "kernelspec": {
   "display_name": "Python 2",
   "language": "python",
   "name": "python2"
  },
  "language_info": {
   "codemirror_mode": {
    "name": "ipython",
    "version": 2
   },
   "file_extension": ".py",
   "mimetype": "text/x-python",
   "name": "python",
   "nbconvert_exporter": "python",
   "pygments_lexer": "ipython2",
   "version": "2.7.14"
  }
 },
 "nbformat": 4,
 "nbformat_minor": 2
}
